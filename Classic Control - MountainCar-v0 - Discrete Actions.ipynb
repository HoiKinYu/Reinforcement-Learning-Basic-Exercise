{
 "cells": [
  {
   "cell_type": "markdown",
   "id": "869c4a71",
   "metadata": {},
   "source": [
    "# 0. What is MountainCar?\n",
    "\n",
    "A car is on a one-dimensional track, positioned between two \"mountains\". The goal is to drive up the mountain on the right; however, the car's engine is not strong enough to scale the mountain in a single pass. Therefore, the only way to succeed is to drive back and forth to build up momentum. \n",
    "\n",
    "### Action Space\n",
    "- There are 3 discrete deterministic actions:\n",
    "\n",
    "\n",
    " Num | Observation                                                 | Value | Unit         |\n",
    "-----|-------------------------------------------------------------|-------|--------------|\n",
    " 0   | Accelerate to the left                                      | Inf   | position (m) |\n",
    " 1   | Don't accelerate                                            | Inf   | position (m) |\n",
    " 2   | Accelerate to the right                                     | Inf   | position (m) |\n",
    "\n",
    " \n",
    "### Observation Space\n",
    "The observation space is a 2-dim vector:\n",
    "- the 1st element represents the \"car position\" \n",
    "- the 2nd element represents the \"car velocity\"\n",
    "\n",
    "\n",
    " Num | Observation                                                 | Min                | Max  | Unit         |\n",
    "-----|-------------------------------------------------------------|--------------------|------|--------------|\n",
    " 0   | position of the car along the x-axis                        | -Inf               | Inf  | position (m) |\n",
    " 1   | velocity of the car                                         | -Inf               | Inf  | position (m) |\n",
    " \n",
    "### Rewards\n",
    "The goal is to reach the flag placed on top of the right hill as quickly as possible, as such the agent is penalised with a reward of -1 for each timestep it isn't at the goal and is not penalised (reward = 0) for when it reaches the goal.\n",
    "\n",
    "### Transition Dynamics:\n",
    "Given an action, the mountain car follows the following transition dynamics:\n",
    "- *velocity<sub>t+1</sub> = velocity<sub>t</sub> + (action - 1) * force - cos(3 * position<sub>t</sub>) * gravity*\n",
    "- *position<sub>t+1</sub> = position<sub>t</sub> + velocity<sub>t+1</sub>* where force = 0.001 and gravity = 0.0025.\n",
    "\n",
    "- The collisions at either end are inelastic with the velocity set to 0 upon collision with the wall. The position is clipped to the range `[-1.2, 0.6]` and velocity is clipped to the range `[-0.07, 0.07]`.\n",
    "\n",
    "\n",
    "### Episode Termination\n",
    "The episode terminates if either of the following happens:\n",
    "1. The position of the car is greater than or equal to 0.5 (the goal position on top of the right hill)\n",
    "2. The length of the episode is 200."
   ]
  },
  {
   "cell_type": "code",
   "execution_count": 1,
   "id": "db5e6008",
   "metadata": {},
   "outputs": [
    {
     "name": "stderr",
     "output_type": "stream",
     "text": [
      "2022-03-01 19:26:36.510 python[3199:181180] Warning: Expected min height of view: (<NSPopoverTouchBarItemButton: 0x7f8671c23150>) to be less than or equal to 30 but got a height of 32.000000. This error will be logged once per view in violation.\n",
      "2022-03-01 19:26:36.510 python[3199:181180] Warning: Expected min height of view: (<NSButton: 0x7f8671d0fed0>) to be less than or equal to 30 but got a height of 32.000000. This error will be logged once per view in violation.\n",
      "2022-03-01 19:26:36.512 python[3199:181180] Warning: Expected min height of view: (<NSPopoverTouchBarItemButton: 0x7f8671d13270>) to be less than or equal to 30 but got a height of 32.000000. This error will be logged once per view in violation.\n",
      "2022-03-01 19:26:36.514 python[3199:181180] Warning: Expected min height of view: (<NSPopoverTouchBarItemButton: 0x7f8671d1afb0>) to be less than or equal to 30 but got a height of 32.000000. This error will be logged once per view in violation.\n"
     ]
    },
    {
     "name": "stdout",
     "output_type": "stream",
     "text": [
      "Observation space: Box([-1.2  -0.07], [0.6  0.07], (2,), float32)\n",
      "Action space: Discrete(3)\n"
     ]
    },
    {
     "data": {
      "image/png": "[encoded data removed]",
      "text/plain": [
       "<Figure size 432x288 with 1 Axes>"
      ]
     },
     "metadata": {
      "needs_background": "light"
     },
     "output_type": "display_data"
    }
   ],
   "source": [
    "import gym\n",
    "import numpy as np\n",
    "import matplotlib.pyplot as plt\n",
    "\n",
    "env = gym.make(\"MountainCar-v0\")\n",
    "env.reset()\n",
    "\n",
    "plt.imshow(env.render('rgb_array'))\n",
    "print(\"Observation space:\", env.observation_space)\n",
    "print(\"Action space:\", env.action_space)"
   ]
  },
  {
   "cell_type": "code",
   "execution_count": 2,
   "id": "dc268cb1",
   "metadata": {},
   "outputs": [],
   "source": [
    "env.close()"
   ]
  },
  {
   "cell_type": "markdown",
   "id": "9fcc8237",
   "metadata": {},
   "source": [
    "# 1. Test Random Environment with OpenAi Gym"
   ]
  },
  {
   "cell_type": "code",
   "execution_count": 3,
   "id": "2cec68f3",
   "metadata": {},
   "outputs": [
    {
     "name": "stdout",
     "output_type": "stream",
     "text": [
      "2\n"
     ]
    },
    {
     "data": {
      "text/plain": [
       "array([-0.06167909,  0.04642748], dtype=float32)"
      ]
     },
     "execution_count": 3,
     "metadata": {},
     "output_type": "execute_result"
    }
   ],
   "source": [
    "print(env.observation_space.shape[0])\n",
    "\n",
    "env.observation_space.sample()               # Observation is just two numbers: car position and velocity"
   ]
  },
  {
   "cell_type": "code",
   "execution_count": 4,
   "id": "12760e46",
   "metadata": {},
   "outputs": [
    {
     "name": "stdout",
     "output_type": "stream",
     "text": [
      "0\n"
     ]
    }
   ],
   "source": [
    "print(env.action_space.sample())            # 3 Actions are:\n",
    "                                             # [0]:Accelerate to left,\n",
    "                                             # [1]:Don't Accelerate, \n",
    "                                             # [2]:Accelerate to Right"
   ]
  },
  {
   "cell_type": "code",
   "execution_count": 5,
   "id": "1887155e",
   "metadata": {},
   "outputs": [
    {
     "data": {
      "text/plain": [
       "Discrete(3)"
      ]
     },
     "execution_count": 5,
     "metadata": {},
     "output_type": "execute_result"
    }
   ],
   "source": [
    "env.action_space"
   ]
  },
  {
   "cell_type": "code",
   "execution_count": 6,
   "id": "a2df2395",
   "metadata": {},
   "outputs": [
    {
     "name": "stdout",
     "output_type": "stream",
     "text": [
      "(array([-0.44491715,  0.00084615]), -1.0, False, {})\n",
      "n_state: [-4.45763294e-01  4.24623156e-04]\n",
      "reward: -1.0\n",
      "done: False\n",
      "info: {}\n"
     ]
    }
   ],
   "source": [
    "action = env.action_space.sample()\n",
    "\n",
    "n_state, reward, done, info = env.step(action)\n",
    "\n",
    "print(env.step(action))\n",
    "\n",
    "print('n_state:',n_state)\n",
    "print('reward:',reward)\n",
    "print('done:',done)\n",
    "print('info:',info)"
   ]
  },
  {
   "cell_type": "code",
   "execution_count": 8,
   "id": "585c162b",
   "metadata": {},
   "outputs": [
    {
     "name": "stdout",
     "output_type": "stream",
     "text": [
      "Episode:1 Score:-200.0\n",
      "Episode:2 Score:-200.0\n",
      "Episode:3 Score:-200.0\n",
      "Episode:4 Score:-200.0\n",
      "Episode:5 Score:-200.0\n"
     ]
    }
   ],
   "source": [
    "episodes = 5\n",
    "\n",
    "for episode in range(1, episodes + 1):                     # looping from 1 to episodes + 1\n",
    "    \n",
    "    state = env.reset()                                    # initial set of observation\n",
    "    \n",
    "    done = False                                           # maximum number of steps in this particular environment\n",
    "    \n",
    "    score = 0                                              # running score counter\n",
    "    \n",
    "    while not done:\n",
    "        \n",
    "        env.render()                                       # view the graphical representation that environment(outside colab only)\n",
    "        \n",
    "        action = env.action_space.sample()\n",
    "\n",
    "        n_state, reward, done, info = env.step(action)      # pass random actions to environment to get back \n",
    "                                                            # 1. next set of observation (4 observation in this case)\n",
    "                                                            # 2. reward (Positive value increment, negative value decrement)\n",
    "                                                            # 3. done (episode is done = True)\n",
    "        \n",
    "        score += reward\n",
    "        \n",
    "    print('Episode:{} Score:{}'.format(episode, score))    # print out score for each episode"
   ]
  },
  {
   "cell_type": "code",
   "execution_count": 9,
   "id": "c7e29bc2",
   "metadata": {},
   "outputs": [],
   "source": [
    "env.close()"
   ]
  },
  {
   "cell_type": "markdown",
   "id": "485e20fe",
   "metadata": {},
   "source": [
    "# 2. Create a Deep Learning Model with Keras"
   ]
  },
  {
   "cell_type": "code",
   "execution_count": 10,
   "id": "596d407a",
   "metadata": {},
   "outputs": [],
   "source": [
    "import numpy as np\n",
    "from tensorflow.keras.models import Sequential\n",
    "from tensorflow.keras.layers import Dense, Flatten\n",
    "from tensorflow.keras.optimizers import Adam"
   ]
  },
  {
   "cell_type": "code",
   "execution_count": 11,
   "id": "b25bb49e",
   "metadata": {},
   "outputs": [
    {
     "name": "stdout",
     "output_type": "stream",
     "text": [
      "Number of States in the environemtn: 2\n",
      "Number of Actions in the environemtn: 3\n"
     ]
    }
   ],
   "source": [
    "states = env.observation_space.shape[0]      \n",
    "\n",
    "print('Number of States in the environemtn:', states)\n",
    "\n",
    "actions = env.action_space.n                 # 3 Actions: Left, Don't accelerate, Right\n",
    "\n",
    "print('Number of Actions in the environemtn:', actions)"
   ]
  },
  {
   "cell_type": "code",
   "execution_count": 12,
   "id": "0554e561",
   "metadata": {},
   "outputs": [],
   "source": [
    "def build_model(states, actions):\n",
    "    model = Sequential()\n",
    "    \n",
    "    model.add(Flatten(input_shape = (1, states)))\n",
    "    \n",
    "    model.add(Dense(24, activation = 'relu'))\n",
    "    \n",
    "    model.add(Dense(24, activation = 'relu'))\n",
    "    \n",
    "    model.add(Dense(actions, activation = 'linear'))\n",
    "    \n",
    "    return model"
   ]
  },
  {
   "cell_type": "code",
   "execution_count": 19,
   "id": "962fb549",
   "metadata": {},
   "outputs": [],
   "source": [
    "del model"
   ]
  },
  {
   "cell_type": "code",
   "execution_count": 20,
   "id": "a08a202e",
   "metadata": {},
   "outputs": [
    {
     "name": "stdout",
     "output_type": "stream",
     "text": [
      "Model: \"sequential_1\"\n",
      "_________________________________________________________________\n",
      "Layer (type)                 Output Shape              Param #   \n",
      "=================================================================\n",
      "flatten_1 (Flatten)          (None, 2)                 0         \n",
      "_________________________________________________________________\n",
      "dense_3 (Dense)              (None, 24)                72        \n",
      "_________________________________________________________________\n",
      "dense_4 (Dense)              (None, 24)                600       \n",
      "_________________________________________________________________\n",
      "dense_5 (Dense)              (None, 3)                 75        \n",
      "=================================================================\n",
      "Total params: 747\n",
      "Trainable params: 747\n",
      "Non-trainable params: 0\n",
      "_________________________________________________________________\n"
     ]
    }
   ],
   "source": [
    "model = build_model(states, actions)\n",
    "\n",
    "model.summary()"
   ]
  },
  {
   "cell_type": "markdown",
   "id": "c77f5c60",
   "metadata": {},
   "source": [
    "# 3. Build Agent with Keras-RL\n",
    "\n",
    "***Two Types of Policy in RL:***\n",
    "1. Value Base RL\n",
    "2. Policy Base RL "
   ]
  },
  {
   "cell_type": "code",
   "execution_count": 21,
   "id": "9932db4b",
   "metadata": {},
   "outputs": [],
   "source": [
    "from rl.agents import DQNAgent              # used DQNAgent here, should try other agents: SARSAAgent      \n",
    "from rl.policy import BoltzmannQPolicy      # used Policy base RL with BoltzmannQPolicy \n",
    "from rl.memory import SequentialMemory"
   ]
  },
  {
   "cell_type": "code",
   "execution_count": 22,
   "id": "15f69206",
   "metadata": {},
   "outputs": [],
   "source": [
    "def build_agent(model, actions):            # build an Agent to train our model\n",
    "    \n",
    "    policy = BoltzmannQPolicy()\n",
    "    \n",
    "    memory = SequentialMemory(limit = 50000,\n",
    "                              window_length = 1\n",
    "                             )\n",
    "    \n",
    "    dqn = DQNAgent(model = model, \n",
    "                   memory = memory,\n",
    "                   policy = policy,\n",
    "                   nb_actions = actions, \n",
    "                   nb_steps_warmup = 10,\n",
    "                   target_model_update = 1e-2\n",
    "                  )\n",
    "    \n",
    "    return dqn"
   ]
  },
  {
   "cell_type": "code",
   "execution_count": 23,
   "id": "c05ca489",
   "metadata": {},
   "outputs": [],
   "source": [
    "import os\n",
    "log_path = os.path.join(\"Training\", \"Logs\", \"MountainCar-v0\")"
   ]
  },
  {
   "cell_type": "code",
   "execution_count": 24,
   "id": "c158c18a",
   "metadata": {},
   "outputs": [
    {
     "data": {
      "text/plain": [
       "'Training/Logs/MountainCar-v0'"
      ]
     },
     "execution_count": 24,
     "metadata": {},
     "output_type": "execute_result"
    }
   ],
   "source": [
    "log_path"
   ]
  },
  {
   "cell_type": "code",
   "execution_count": 61,
   "id": "1128f1d2",
   "metadata": {},
   "outputs": [],
   "source": [
    "from stable_baselines3.common.callbacks import EvalCallback, StopTrainingOnRewardThreshold\n",
    "\n",
    "save_path = os.path.join('Training', 'Saved Models')\n",
    "\n",
    "stop_callback = StopTrainingOnRewardThreshold(reward_threshold = 200, verbose = 1)  # stop traing when achieve 200 reward\n",
    "\n",
    "eval_callback = EvalCallback(env, \n",
    "                             callback_on_new_best = stop_callback,      # every time new best model, then run stop_callback. When stop_callback achieve 200 reward, then stop the training\n",
    "                             eval_freq = 10000,                         # set how often to run eval_callback \n",
    "                             best_model_save_path = save_path,\n",
    "                             verbose = 1\n",
    "                            )"
   ]
  },
  {
   "cell_type": "code",
   "execution_count": 63,
   "id": "ae20117f",
   "metadata": {},
   "outputs": [
    {
     "name": "stdout",
     "output_type": "stream",
     "text": [
      "Training for 50000 steps ...\n",
      "Interval 1 (0 steps performed)\n",
      "\r",
      "    1/10000 [..............................] - ETA: 31:51 - reward: -1.0000"
     ]
    },
    {
     "name": "stderr",
     "output_type": "stream",
     "text": [
      "/Users/hoikinyu/opt/anaconda3/lib/python3.8/site-packages/keras/engine/training.py:2470: UserWarning: `Model.state_updates` will be removed in a future version. This property should not be used in TensorFlow 2.0, as `updates` are applied automatically.\n",
      "  warnings.warn('`Model.state_updates` will be removed in a future version. '\n",
      "/Users/hoikinyu/opt/anaconda3/lib/python3.8/site-packages/rl/memory.py:37: UserWarning: Not enough entries to sample without replacement. Consider increasing your warm-up phase to avoid oversampling!\n",
      "  warnings.warn('Not enough entries to sample without replacement. Consider increasing your warm-up phase to avoid oversampling!')\n"
     ]
    },
    {
     "name": "stdout",
     "output_type": "stream",
     "text": [
      "10000/10000 [==============================] - 45s 4ms/step - reward: -1.0000\n",
      "50 episodes - episode_reward: -200.000 [-200.000, -200.000] - loss: 7.025 - mae: 35.900 - mean_q: -53.318\n",
      "\n",
      "Interval 2 (10000 steps performed)\n",
      "  212/10000 [..............................] - ETA: 44s - reward: -1.0000done, took 45.993 seconds\n"
     ]
    },
    {
     "data": {
      "text/plain": [
       "<keras.callbacks.History at 0x7f869d7e6b50>"
      ]
     },
     "execution_count": 63,
     "metadata": {},
     "output_type": "execute_result"
    }
   ],
   "source": [
    "dqn = build_agent(model, actions)                               # Used build_agent to setup a dqn model\n",
    "\n",
    "dqn.compile(Adam(learning_rate = 1e-4), \n",
    "            metrics = ['mae']\n",
    "           )      \n",
    "\n",
    "dqn.fit(env, \n",
    "        nb_steps = 50000, \n",
    "        visualize = False, \n",
    "        verbose =1\n",
    "       )"
   ]
  },
  {
   "cell_type": "code",
   "execution_count": 43,
   "id": "e415206c",
   "metadata": {},
   "outputs": [
    {
     "name": "stdout",
     "output_type": "stream",
     "text": [
      "Testing for 100 episodes ...\n",
      "Episode 1: reward: -200.000, steps: 200\n",
      "Episode 2: reward: -200.000, steps: 200\n",
      "Episode 3: reward: -200.000, steps: 200\n",
      "Episode 4: reward: -200.000, steps: 200\n",
      "Episode 5: reward: -200.000, steps: 200\n",
      "Episode 6: reward: -200.000, steps: 200\n",
      "Episode 7: reward: -200.000, steps: 200\n",
      "Episode 8: reward: -200.000, steps: 200\n",
      "Episode 9: reward: -200.000, steps: 200\n",
      "Episode 10: reward: -200.000, steps: 200\n",
      "Episode 11: reward: -200.000, steps: 200\n",
      "Episode 12: reward: -200.000, steps: 200\n",
      "Episode 13: reward: -200.000, steps: 200\n",
      "Episode 14: reward: -200.000, steps: 200\n",
      "Episode 15: reward: -200.000, steps: 200\n",
      "Episode 16: reward: -200.000, steps: 200\n",
      "Episode 17: reward: -200.000, steps: 200\n",
      "Episode 18: reward: -200.000, steps: 200\n",
      "Episode 19: reward: -200.000, steps: 200\n",
      "Episode 20: reward: -200.000, steps: 200\n",
      "Episode 21: reward: -200.000, steps: 200\n",
      "Episode 22: reward: -200.000, steps: 200\n",
      "Episode 23: reward: -200.000, steps: 200\n",
      "Episode 24: reward: -200.000, steps: 200\n",
      "Episode 25: reward: -200.000, steps: 200\n",
      "Episode 26: reward: -200.000, steps: 200\n",
      "Episode 27: reward: -200.000, steps: 200\n",
      "Episode 28: reward: -200.000, steps: 200\n",
      "Episode 29: reward: -200.000, steps: 200\n",
      "Episode 30: reward: -200.000, steps: 200\n",
      "Episode 31: reward: -200.000, steps: 200\n",
      "Episode 32: reward: -200.000, steps: 200\n",
      "Episode 33: reward: -200.000, steps: 200\n",
      "Episode 34: reward: -200.000, steps: 200\n",
      "Episode 35: reward: -200.000, steps: 200\n",
      "Episode 36: reward: -200.000, steps: 200\n",
      "Episode 37: reward: -200.000, steps: 200\n",
      "Episode 38: reward: -200.000, steps: 200\n",
      "Episode 39: reward: -200.000, steps: 200\n",
      "Episode 40: reward: -200.000, steps: 200\n",
      "Episode 41: reward: -200.000, steps: 200\n",
      "Episode 42: reward: -200.000, steps: 200\n",
      "Episode 43: reward: -200.000, steps: 200\n",
      "Episode 44: reward: -200.000, steps: 200\n",
      "Episode 45: reward: -200.000, steps: 200\n",
      "Episode 46: reward: -200.000, steps: 200\n",
      "Episode 47: reward: -200.000, steps: 200\n",
      "Episode 48: reward: -200.000, steps: 200\n",
      "Episode 49: reward: -200.000, steps: 200\n",
      "Episode 50: reward: -200.000, steps: 200\n",
      "Episode 51: reward: -200.000, steps: 200\n",
      "Episode 52: reward: -200.000, steps: 200\n",
      "Episode 53: reward: -200.000, steps: 200\n",
      "Episode 54: reward: -200.000, steps: 200\n",
      "Episode 55: reward: -200.000, steps: 200\n",
      "Episode 56: reward: -200.000, steps: 200\n",
      "Episode 57: reward: -200.000, steps: 200\n",
      "Episode 58: reward: -200.000, steps: 200\n",
      "Episode 59: reward: -200.000, steps: 200\n",
      "Episode 60: reward: -200.000, steps: 200\n",
      "Episode 61: reward: -200.000, steps: 200\n",
      "Episode 62: reward: -200.000, steps: 200\n",
      "Episode 63: reward: -200.000, steps: 200\n",
      "Episode 64: reward: -200.000, steps: 200\n",
      "Episode 65: reward: -200.000, steps: 200\n",
      "Episode 66: reward: -200.000, steps: 200\n",
      "Episode 67: reward: -200.000, steps: 200\n",
      "Episode 68: reward: -200.000, steps: 200\n",
      "Episode 69: reward: -200.000, steps: 200\n",
      "Episode 70: reward: -200.000, steps: 200\n",
      "Episode 71: reward: -200.000, steps: 200\n",
      "Episode 72: reward: -200.000, steps: 200\n",
      "Episode 73: reward: -200.000, steps: 200\n",
      "Episode 74: reward: -200.000, steps: 200\n",
      "Episode 75: reward: -200.000, steps: 200\n",
      "Episode 76: reward: -200.000, steps: 200\n",
      "Episode 77: reward: -200.000, steps: 200\n",
      "Episode 78: reward: -200.000, steps: 200\n",
      "Episode 79: reward: -200.000, steps: 200\n",
      "Episode 80: reward: -200.000, steps: 200\n",
      "Episode 81: reward: -200.000, steps: 200\n",
      "Episode 82: reward: -200.000, steps: 200\n",
      "Episode 83: reward: -200.000, steps: 200\n",
      "Episode 84: reward: -200.000, steps: 200\n",
      "Episode 85: reward: -200.000, steps: 200\n",
      "Episode 86: reward: -200.000, steps: 200\n",
      "Episode 87: reward: -200.000, steps: 200\n",
      "Episode 88: reward: -200.000, steps: 200\n",
      "Episode 89: reward: -200.000, steps: 200\n",
      "Episode 90: reward: -200.000, steps: 200\n",
      "Episode 91: reward: -200.000, steps: 200\n",
      "Episode 92: reward: -200.000, steps: 200\n",
      "Episode 93: reward: -200.000, steps: 200\n",
      "Episode 94: reward: -200.000, steps: 200\n",
      "Episode 95: reward: -200.000, steps: 200\n",
      "Episode 96: reward: -200.000, steps: 200\n",
      "Episode 97: reward: -200.000, steps: 200\n",
      "Episode 98: reward: -200.000, steps: 200\n",
      "Episode 99: reward: -200.000, steps: 200\n",
      "Episode 100: reward: -200.000, steps: 200\n",
      "-200.0\n"
     ]
    }
   ],
   "source": [
    "# Use dqn.test model to test our trained model\n",
    "scores = dqn.test(env,                             # pass our environment into the dqn.test model\n",
    "                  nb_episodes = 100,\n",
    "                  visualize = False                # set True if we want to visualize it\n",
    "                 )\n",
    "\n",
    "print(np.mean(scores.history['episode_reward']))"
   ]
  },
  {
   "cell_type": "code",
   "execution_count": 64,
   "id": "ad4a7051",
   "metadata": {},
   "outputs": [
    {
     "name": "stdout",
     "output_type": "stream",
     "text": [
      "Testing for 15 episodes ...\n"
     ]
    },
    {
     "name": "stderr",
     "output_type": "stream",
     "text": [
      "2022-03-01 20:56:45.032 python[3199:181180] Warning: Expected min height of view: (<NSPopoverTouchBarItemButton: 0x7f86673797a0>) to be less than or equal to 30 but got a height of 32.000000. This error will be logged once per view in violation.\n",
      "2022-03-01 20:56:45.033 python[3199:181180] Warning: Expected min height of view: (<NSButton: 0x7f86660824d0>) to be less than or equal to 30 but got a height of 32.000000. This error will be logged once per view in violation.\n",
      "2022-03-01 20:56:45.036 python[3199:181180] Warning: Expected min height of view: (<NSPopoverTouchBarItemButton: 0x7f8666085060>) to be less than or equal to 30 but got a height of 32.000000. This error will be logged once per view in violation.\n",
      "2022-03-01 20:56:45.038 python[3199:181180] Warning: Expected min height of view: (<NSPopoverTouchBarItemButton: 0x7f86673825f0>) to be less than or equal to 30 but got a height of 32.000000. This error will be logged once per view in violation.\n"
     ]
    },
    {
     "name": "stdout",
     "output_type": "stream",
     "text": [
      "Episode 1: reward: -200.000, steps: 200\n",
      "Episode 2: reward: -200.000, steps: 200\n",
      "Episode 3: reward: -200.000, steps: 200\n",
      "Episode 4: reward: -200.000, steps: 200\n",
      "Episode 5: reward: -200.000, steps: 200\n",
      "Episode 6: reward: -200.000, steps: 200\n",
      "Episode 7: reward: -200.000, steps: 200\n",
      "Episode 8: reward: -200.000, steps: 200\n",
      "Episode 9: reward: -200.000, steps: 200\n",
      "Episode 10: reward: -200.000, steps: 200\n",
      "Episode 11: reward: -200.000, steps: 200\n",
      "Episode 12: reward: -200.000, steps: 200\n",
      "Episode 13: reward: -200.000, steps: 200\n",
      "Episode 14: reward: -200.000, steps: 200\n",
      "Episode 15: reward: -200.000, steps: 200\n"
     ]
    }
   ],
   "source": [
    "_ = dqn.test(env,\n",
    "             nb_episodes = 15,\n",
    "             visualize = True\n",
    "            )"
   ]
  },
  {
   "cell_type": "code",
   "execution_count": 65,
   "id": "3e1dde46",
   "metadata": {},
   "outputs": [],
   "source": [
    "env.close()"
   ]
  },
  {
   "cell_type": "markdown",
   "id": "e50fff13",
   "metadata": {},
   "source": [
    "# 4. Reloading Agent from Memory"
   ]
  },
  {
   "cell_type": "code",
   "execution_count": 33,
   "id": "c3f70f9d",
   "metadata": {},
   "outputs": [],
   "source": [
    "dqn.save_weights('Saved_weight/MountainCar_v0_dqn_weights_50K_steps_220301.h5f', overwrite=True)"
   ]
  },
  {
   "cell_type": "code",
   "execution_count": 34,
   "id": "131e4855",
   "metadata": {},
   "outputs": [],
   "source": [
    "del model\n",
    "del dqn\n",
    "del env"
   ]
  },
  {
   "cell_type": "code",
   "execution_count": 10,
   "id": "36a5d81a",
   "metadata": {},
   "outputs": [
    {
     "name": "stderr",
     "output_type": "stream",
     "text": [
      "2022-03-01 15:46:22.389878: I tensorflow/core/platform/cpu_feature_guard.cc:142] This TensorFlow binary is optimized with oneAPI Deep Neural Network Library (oneDNN) to use the following CPU instructions in performance-critical operations:  AVX2 FMA\n",
      "To enable them in other operations, rebuild TensorFlow with the appropriate compiler flags.\n"
     ]
    }
   ],
   "source": [
    "# Rebuild the model\n",
    "env = gym.make('MountainCar-v0')\n",
    "\n",
    "states = env.observation_space.shape[0]      # 4 States under CartPole\n",
    "\n",
    "actions = env.action_space.n                 # 2 Actions: Left, Right\n",
    "\n",
    "model = build_model(states, actions)\n",
    "\n",
    "dqn = build_agent(model, actions)            # Used build_agent to setup a dqn model\n",
    "\n",
    "dqn.compile(Adam(learning_rate = 1e-3), \n",
    "            metrics = ['mae']\n",
    "           ) "
   ]
  },
  {
   "cell_type": "code",
   "execution_count": 66,
   "id": "ee033f59",
   "metadata": {},
   "outputs": [],
   "source": [
    "dqn.load_weights('Saved_weight/MountainCar_v0_dqn_weights_50K_steps_220301.h5f')"
   ]
  },
  {
   "cell_type": "code",
   "execution_count": 67,
   "id": "785e7c0c",
   "metadata": {},
   "outputs": [
    {
     "name": "stdout",
     "output_type": "stream",
     "text": [
      "Testing for 5 episodes ...\n"
     ]
    },
    {
     "name": "stderr",
     "output_type": "stream",
     "text": [
      "2022-03-01 20:57:03.880 python[3199:181180] Warning: Expected min height of view: (<NSPopoverTouchBarItemButton: 0x7f8665ef7fb0>) to be less than or equal to 30 but got a height of 32.000000. This error will be logged once per view in violation.\n",
      "2022-03-01 20:57:03.880 python[3199:181180] Warning: Expected min height of view: (<NSButton: 0x7f86658bbb80>) to be less than or equal to 30 but got a height of 32.000000. This error will be logged once per view in violation.\n",
      "2022-03-01 20:57:03.883 python[3199:181180] Warning: Expected min height of view: (<NSPopoverTouchBarItemButton: 0x7f86658a31b0>) to be less than or equal to 30 but got a height of 32.000000. This error will be logged once per view in violation.\n",
      "2022-03-01 20:57:03.885 python[3199:181180] Warning: Expected min height of view: (<NSPopoverTouchBarItemButton: 0x7f8661cc0720>) to be less than or equal to 30 but got a height of 32.000000. This error will be logged once per view in violation.\n"
     ]
    },
    {
     "name": "stdout",
     "output_type": "stream",
     "text": [
      "Episode 1: reward: -114.000, steps: 114\n",
      "Episode 2: reward: -85.000, steps: 85\n",
      "Episode 3: reward: -115.000, steps: 115\n",
      "Episode 4: reward: -113.000, steps: 113\n",
      "Episode 5: reward: -117.000, steps: 117\n"
     ]
    }
   ],
   "source": [
    "_ = dqn.test(env,\n",
    "             nb_episodes = 5,\n",
    "             visualize = True\n",
    "            )"
   ]
  },
  {
   "cell_type": "code",
   "execution_count": 68,
   "id": "0ed7f9f6",
   "metadata": {},
   "outputs": [],
   "source": [
    "env.close()"
   ]
  },
  {
   "cell_type": "markdown",
   "id": "f8970f1f",
   "metadata": {},
   "source": [
    "# 5. View Log in Tensorboard"
   ]
  },
  {
   "cell_type": "code",
   "execution_count": 69,
   "id": "36392839",
   "metadata": {},
   "outputs": [
    {
     "data": {
      "text/plain": [
       "'Training/Logs/MountainCar-v0'"
      ]
     },
     "execution_count": 69,
     "metadata": {},
     "output_type": "execute_result"
    }
   ],
   "source": [
    "log_path"
   ]
  },
  {
   "cell_type": "code",
   "execution_count": null,
   "id": "7e328fa5",
   "metadata": {},
   "outputs": [],
   "source": [
    "!tensorboard --logdir={log_path}"
   ]
  },
  {
   "cell_type": "code",
   "execution_count": null,
   "id": "83132b3c",
   "metadata": {},
   "outputs": [],
   "source": []
  }
 ],
 "metadata": {
  "kernelspec": {
   "display_name": "Python 3 (ipykernel)",
   "language": "python",
   "name": "python3"
  },
  "language_info": {
   "codemirror_mode": {
    "name": "ipython",
    "version": 3
   },
   "file_extension": ".py",
   "mimetype": "text/x-python",
   "name": "python",
   "nbconvert_exporter": "python",
   "pygments_lexer": "ipython3",
   "version": "3.8.5"
  }
 },
 "nbformat": 4,
 "nbformat_minor": 5
}
